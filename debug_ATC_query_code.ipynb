{
 "cells": [
  {
   "cell_type": "markdown",
   "metadata": {},
   "source": [
    "## code for reading in csv files for meds , convert meds to ATC codes"
   ]
  },
  {
   "cell_type": "code",
   "execution_count": 6,
   "metadata": {
    "collapsed": false
   },
   "outputs": [],
   "source": [
    "import os\n",
    "import sys\n",
    "import pandas as pd\n",
    "import numpy as np\n",
    "sys.path.append('../data-preprocess/')\n",
    "import queryRxNorm as qrx\n",
    "import json"
   ]
  },
  {
   "cell_type": "code",
   "execution_count": 65,
   "metadata": {
    "collapsed": true
   },
   "outputs": [],
   "source": [
    "col_idx_drug_indicator = 11\n",
    "col_idx_med_name = 3\n",
    "col_idx_reason_name = 7"
   ]
  },
  {
   "cell_type": "code",
   "execution_count": 12,
   "metadata": {
    "collapsed": true
   },
   "outputs": [],
   "source": [
    "l_all_med_files = ['./sample_data.csv']\n"
   ]
  },
  {
   "cell_type": "code",
   "execution_count": 13,
   "metadata": {
    "collapsed": true
   },
   "outputs": [],
   "source": [
    "## load json file for atc Hierarchy\n",
    "file_hier_atc = './atcHierDict.json'\n",
    "with open(file_hier_atc) as infile:\n",
    "\td_hier_atc = json.load(infile)\n",
    "file_atc_code_name = './atcDict.json'\n",
    "with open(file_atc_code_name) as infile:\n",
    "\td_atc_code_name = json.load(infile)"
   ]
  },
  {
   "cell_type": "code",
   "execution_count": 37,
   "metadata": {
    "collapsed": true
   },
   "outputs": [],
   "source": [
    "## master list of all meds\n",
    "l_med_all = []\n",
    "## load original data file, grab all med names\n",
    "for filename in l_all_med_files:\n",
    "\tdf_this_med_file = pd.read_csv(filename, header = None)\n",
    "\t### filter out just drugs\n",
    "\tdf_this_med_file = df_this_med_file[df_this_med_file[col_idx_drug_indicator]=='D']\n",
    "\t## make list of all medications\n",
    "\tl_meds = list(df_this_med_file[col_idx_med_name])\n",
    "\tl_med_all = l_med_all + l_meds\n"
   ]
  },
  {
   "cell_type": "code",
   "execution_count": 38,
   "metadata": {
    "collapsed": false
   },
   "outputs": [
    {
     "data": {
      "text/plain": [
       "['Amitriptyline',\n",
       " 'Warfarin (coumadin)',\n",
       " 'Cymbalta (duloxetine)',\n",
       " 'Meloxicam',\n",
       " 'Lexapro (citalopram)',\n",
       " 'Synthroid (levothyroxine)',\n",
       " 'Restasis',\n",
       " 'Duragesic',\n",
       " 'Alprazolam',\n",
       " 'Xanax',\n",
       " 'Sprintec',\n",
       " 'Alprazolam Xanax',\n",
       " 'Fioricet',\n",
       " 'Cefdinir',\n",
       " 'Zantac (ranitidine)',\n",
       " 'Gabapentin',\n",
       " 'Endcet',\n",
       " 'Fentanyl',\n",
       " 'Nexium (esomeprazole)',\n",
       " 'Vesicare']"
      ]
     },
     "execution_count": 38,
     "metadata": {},
     "output_type": "execute_result"
    }
   ],
   "source": [
    "l_med_all"
   ]
  },
  {
   "cell_type": "code",
   "execution_count": 39,
   "metadata": {
    "collapsed": true
   },
   "outputs": [],
   "source": [
    "l_unique_med = np.unique(l_med_all)\n"
   ]
  },
  {
   "cell_type": "code",
   "execution_count": 60,
   "metadata": {
    "collapsed": false
   },
   "outputs": [
    {
     "name": "stdout",
     "output_type": "stream",
     "text": [
      "num meds: 20\n",
      "0\n",
      "Alprazolam Xanax\n",
      "Alprazolam\n",
      "Cymbalta (duloxetine)\n",
      "Cymbalta\n",
      "5\n",
      "10\n",
      "Lexapro (citalopram)\n",
      "Lexapro\n",
      "Nexium (esomeprazole)\n",
      "Nexium\n",
      "15\n",
      "Synthroid (levothyroxine)\n",
      "Synthroid\n",
      "Warfarin (coumadin)\n",
      "Warfarin\n",
      "Zantac (ranitidine)\n",
      "Zantac\n"
     ]
    }
   ],
   "source": [
    "d_medName_atcL2name = dict()\n",
    "d_medName_atcL3name = dict()\n",
    "l_medName_no_ATC = []\n",
    "\n",
    "print \"num meds: \" + str(len(l_unique_med))\n",
    "for idx in range(len(l_unique_med)):\n",
    "\tif np.mod(idx, 5) == 0:\n",
    "\t\tprint idx\n",
    "\tmed_name = l_unique_med[idx]\n",
    "\ts_rxcui = qrx.get_rxcui(med_name)\n",
    "\tl_atc_cat = qrx.rxcui_to_category(s_rxcui, relaSource=\"ATC\")\n",
    "\tif len(l_atc_cat) > 0: #IF THERES A HIT\n",
    "\t\tfirst_code = l_atc_cat[0]\n",
    "\t\tatc_cat_L2 = d_hier_atc[first_code][\"L2\"]\n",
    "\t\tatc_cat_L3 = d_hier_atc[first_code][\"L3\"]\n",
    "\t\tname_atc_cat_L2 = d_atc_code_name[atc_cat_L2]\n",
    "\t\tname_atc_cat_L3 = d_atc_code_name[atc_cat_L3]\n",
    "\t\t# store in new dict RAW_DATAFILE_NAME => ATC NAME\n",
    "\t\td_medName_atcL2name[med_name] = name_atc_cat_L2\n",
    "\t\td_medName_atcL3name[med_name] = name_atc_cat_L3\n",
    "\telif len(med_name.split(' ')) > 1: #try to use just the first word\n",
    "\t\tmed_name_first_word = med_name.split(' ')[0]\n",
    "\t\tprint med_name\n",
    "\t\tprint med_name_first_word\n",
    "\t\ts_rxcui = qrx.get_rxcui(med_name_first_word)\n",
    "\t\tl_atc_cat = qrx.rxcui_to_category(s_rxcui, relaSource=\"ATC\")\n",
    "\t\tif len(l_atc_cat) > 0: #IF THERES A HIT\n",
    "\t\t\tfirst_code = l_atc_cat[0]\n",
    "\t\t\tatc_cat_L2 = d_hier_atc[first_code][\"L2\"]\n",
    "\t\t\tatc_cat_L3 = d_hier_atc[first_code][\"L3\"]\n",
    "\t\t\tname_atc_cat_L2 = d_atc_code_name[atc_cat_L2]\n",
    "\t\t\tname_atc_cat_L3 = d_atc_code_name[atc_cat_L3]\n",
    "\t\t\t# store in new dict RAW_DATAFILE_NAME => ATC NAME\n",
    "\t\t\td_medName_atcL2name[med_name] = name_atc_cat_L2\n",
    "\t\t\td_medName_atcL3name[med_name] = name_atc_cat_L3\n",
    "\t\telse: #IF NO HIT WITH FIRST WORD\n",
    "\t\t\tl_medName_no_ATC.append(med_name)\n",
    "\telse: #IF medname is only one word  and there was no hit, then theres no hit\n",
    "\t\tl_medName_no_ATC.append(med_name)\n",
    "\n"
   ]
  },
  {
   "cell_type": "code",
   "execution_count": 66,
   "metadata": {
    "collapsed": false
   },
   "outputs": [
    {
     "name": "stderr",
     "output_type": "stream",
     "text": [
      "/Users/rchen/miniconda/lib/python2.7/site-packages/ipykernel/__main__.py:11: SettingWithCopyWarning: \n",
      "A value is trying to be set on a copy of a slice from a DataFrame.\n",
      "Try using .loc[row_indexer,col_indexer] = value instead\n",
      "\n",
      "See the caveats in the documentation: http://pandas.pydata.org/pandas-docs/stable/indexing.html#indexing-view-versus-copy\n",
      "/Users/rchen/miniconda/lib/python2.7/site-packages/ipykernel/__main__.py:12: SettingWithCopyWarning: \n",
      "A value is trying to be set on a copy of a slice from a DataFrame.\n",
      "Try using .loc[row_indexer,col_indexer] = value instead\n",
      "\n",
      "See the caveats in the documentation: http://pandas.pydata.org/pandas-docs/stable/indexing.html#indexing-view-versus-copy\n"
     ]
    }
   ],
   "source": [
    "## for the datafiles, append the ATC classifications, save updated files\n",
    "for filename in l_all_med_files:\n",
    "\tdf_this_med_file = pd.read_csv(filename, header = None)\n",
    "\t### filter out just the drugs\n",
    "\tdf_this_med_file = df_this_med_file[df_this_med_file[col_idx_drug_indicator]=='D']\n",
    "\t### append the ATC names\n",
    "\tl_meds = list(df_this_med_file[col_idx_med_name])\n",
    "\tl_atc_l2 = [d_medName_atcL2name[x] if x in d_medName_atcL2name else np.nan for x in l_meds]\n",
    "\tl_atc_l3 = [d_medName_atcL3name[x] if x in d_medName_atcL3name else np.nan for x in l_meds]\n",
    "\tdf_this_med_file_to_save = df_this_med_file[[0,col_idx_reason_name, col_idx_med_name]]\n",
    "\tdf_this_med_file_to_save['L2'] = l_atc_l2\n",
    "\tdf_this_med_file_to_save['L3'] = l_atc_l3\n",
    "\tsave_filename = filename.split('.csv')[0] + '_mappedATC.csv'\n",
    "\tdf_this_med_file_to_save.to_csv(save_filename, index = None, header = None)"
   ]
  },
  {
   "cell_type": "code",
   "execution_count": 61,
   "metadata": {
    "collapsed": false
   },
   "outputs": [
    {
     "data": {
      "text/plain": [
       "{'Alprazolam': u'PSYCHOLEPTICS',\n",
       " 'Alprazolam Xanax': u'PSYCHOLEPTICS',\n",
       " 'Amitriptyline': u'PSYCHOANALEPTICS',\n",
       " 'Cefdinir': u'ANTIBACTERIALS FOR SYSTEMIC USE',\n",
       " 'Cymbalta (duloxetine)': u'PSYCHOANALEPTICS',\n",
       " 'Duragesic': u'ANESTHETICS',\n",
       " 'Fentanyl': u'ANESTHETICS',\n",
       " 'Fioricet': u'ANALGESICS',\n",
       " 'Gabapentin': u'ANTIEPILEPTICS',\n",
       " 'Lexapro (citalopram)': u'PSYCHOANALEPTICS',\n",
       " 'Meloxicam': u'ANTIINFLAMMATORY AND ANTIRHEUMATIC PRODUCTS',\n",
       " 'Nexium (esomeprazole)': u'DRUGS FOR ACID RELATED DISORDERS',\n",
       " 'Restasis': u'IMMUNOSUPPRESSANTS',\n",
       " 'Synthroid (levothyroxine)': u'THYROID THERAPY',\n",
       " 'Vesicare': u'UROLOGICALS',\n",
       " 'Warfarin (coumadin)': u'ANTITHROMBOTIC AGENTS',\n",
       " 'Xanax': u'PSYCHOLEPTICS',\n",
       " 'Zantac (ranitidine)': u'DRUGS FOR ACID RELATED DISORDERS'}"
      ]
     },
     "execution_count": 61,
     "metadata": {},
     "output_type": "execute_result"
    }
   ],
   "source": [
    "d_medName_atcL2name"
   ]
  },
  {
   "cell_type": "code",
   "execution_count": 62,
   "metadata": {
    "collapsed": false
   },
   "outputs": [
    {
     "data": {
      "text/plain": [
       "{'Alprazolam': u'ANXIOLYTICS',\n",
       " 'Alprazolam Xanax': u'ANXIOLYTICS',\n",
       " 'Amitriptyline': u'ANTIDEPRESSANTS',\n",
       " 'Cefdinir': u'OTHER BETA-LACTAM ANTIBACTERIALS',\n",
       " 'Cymbalta (duloxetine)': u'ANTIDEPRESSANTS',\n",
       " 'Duragesic': u'ANESTHETICS, GENERAL',\n",
       " 'Fentanyl': u'ANESTHETICS, GENERAL',\n",
       " 'Fioricet': u'OTHER ANALGESICS AND ANTIPYRETICS',\n",
       " 'Gabapentin': u'ANTIEPILEPTICS',\n",
       " 'Lexapro (citalopram)': u'ANTIDEPRESSANTS',\n",
       " 'Meloxicam': u'ANTIINFLAMMATORY AND ANTIRHEUMATIC PRODUCTS, NON-STEROIDS',\n",
       " 'Nexium (esomeprazole)': u'DRUGS FOR PEPTIC ULCER AND GASTRO-OESOPHAGEAL REFLUX DISEASE (GORD)',\n",
       " 'Restasis': u'IMMUNOSUPPRESSANTS',\n",
       " 'Synthroid (levothyroxine)': u'THYROID PREPARATIONS',\n",
       " 'Vesicare': u'UROLOGICALS',\n",
       " 'Warfarin (coumadin)': u'ANTITHROMBOTIC AGENTS',\n",
       " 'Xanax': u'ANXIOLYTICS',\n",
       " 'Zantac (ranitidine)': u'DRUGS FOR PEPTIC ULCER AND GASTRO-OESOPHAGEAL REFLUX DISEASE (GORD)'}"
      ]
     },
     "execution_count": 62,
     "metadata": {},
     "output_type": "execute_result"
    }
   ],
   "source": [
    "d_medName_atcL3name"
   ]
  },
  {
   "cell_type": "code",
   "execution_count": 63,
   "metadata": {
    "collapsed": false
   },
   "outputs": [
    {
     "data": {
      "text/plain": [
       "['Endcet', 'Sprintec']"
      ]
     },
     "execution_count": 63,
     "metadata": {},
     "output_type": "execute_result"
    }
   ],
   "source": [
    "l_medName_no_ATC"
   ]
  },
  {
   "cell_type": "code",
   "execution_count": 67,
   "metadata": {
    "collapsed": false
   },
   "outputs": [
    {
     "data": {
      "text/plain": [
       "'Zantac (ranitidine)'"
      ]
     },
     "execution_count": 67,
     "metadata": {},
     "output_type": "execute_result"
    }
   ],
   "source": [
    "med_name"
   ]
  },
  {
   "cell_type": "code",
   "execution_count": 69,
   "metadata": {
    "collapsed": false
   },
   "outputs": [
    {
     "data": {
      "text/plain": [
       "True"
      ]
     },
     "execution_count": 69,
     "metadata": {},
     "output_type": "execute_result"
    }
   ],
   "source": [
    "'(' in med_name and ')' in med_name"
   ]
  },
  {
   "cell_type": "code",
   "execution_count": 74,
   "metadata": {
    "collapsed": false
   },
   "outputs": [
    {
     "data": {
      "text/plain": [
       "'ranitidine'"
      ]
     },
     "execution_count": 74,
     "metadata": {},
     "output_type": "execute_result"
    }
   ],
   "source": [
    "med_name.split(')')[0].split('(')[-1]"
   ]
  },
  {
   "cell_type": "code",
   "execution_count": null,
   "metadata": {
    "collapsed": true
   },
   "outputs": [],
   "source": []
  }
 ],
 "metadata": {
  "kernelspec": {
   "display_name": "Python 2",
   "language": "python",
   "name": "python2"
  },
  "language_info": {
   "codemirror_mode": {
    "name": "ipython",
    "version": 2
   },
   "file_extension": ".py",
   "mimetype": "text/x-python",
   "name": "python",
   "nbconvert_exporter": "python",
   "pygments_lexer": "ipython2",
   "version": "2.7.12"
  }
 },
 "nbformat": 4,
 "nbformat_minor": 0
}
